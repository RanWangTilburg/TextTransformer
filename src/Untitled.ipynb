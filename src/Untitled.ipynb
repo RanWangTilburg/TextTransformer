{
 "cells": [
  {
   "cell_type": "code",
   "execution_count": 25,
   "metadata": {
    "collapsed": false
   },
   "outputs": [
    {
     "data": {
      "text/plain": [
       "\"Hello , I'm a string !\""
      ]
     },
     "execution_count": 25,
     "metadata": {},
     "output_type": "execute_result"
    }
   ],
   "source": [
    "from enchant.tokenize import get_tokenizer\n",
    "import enchant\n",
    "\n",
    "dic = enchant.Dict(\"en_US\")\n",
    "tknzr = get_tokenizer(\"en_US\")\n",
    "\n",
    "import re\n",
    "\n",
    "# di\n",
    "# text = \"this's a sent tokenize, test. this is sent two. is this sent three? sent 4 is cool! Now it's your turn.\"\n",
    "# sent_tokenize_list = sent_tokenize(text)\n",
    "# print sent_tokenize_list\n",
    "dic.check(\".\")\n",
    "\" \".join(re.findall(r\"[\\w']+|[.,!?;]\", \"Hello, I'm a string!\"))"
   ]
  }
 ],
 "metadata": {
  "anaconda-cloud": {},
  "kernelspec": {
   "display_name": "Python [conda root]",
   "language": "python",
   "name": "conda-root-py"
  },
  "language_info": {
   "codemirror_mode": {
    "name": "ipython",
    "version": 2
   },
   "file_extension": ".py",
   "mimetype": "text/x-python",
   "name": "python",
   "nbconvert_exporter": "python",
   "pygments_lexer": "ipython2",
   "version": "2.7.12"
  }
 },
 "nbformat": 4,
 "nbformat_minor": 1
}
